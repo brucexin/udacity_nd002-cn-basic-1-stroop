{
 "cells": [
  {
   "cell_type": "markdown",
   "metadata": {},
   "source": [
    "# UDACITY 数据分析 项目一 STROOP 现象分析 实验"
   ]
  },
  {
   "cell_type": "markdown",
   "metadata": {},
   "source": [
    "实验对 __STROOP(斯特鲁普)__ 现象进行调查。统计了代表颜色的单词的字义和其打印墨色一致和不一致两种情况时的朗读时长。并根据统计抽样计算出两种情况下的朗读时长是否存在显著差异。\n",
    "\n",
    "### 自变量:\n",
    "自变量是文字字义与文字颜色是否一致。有一致和不一致两种情况。\n",
    "\n",
    "### 因变量:\n",
    "完成测试读出单词所花的时长。\n",
    "\n",
    "根据测试样本得出的总体平均时长:\n",
    "\n",
    "  文字字义与文字颜色一致时的总体平均时长 $T_c$\n",
    "\n",
    "  文字字义与文字颜色不一致时的总体平均时长 $T_i$\n",
    "\n",
    "### 零假设：\n",
    "读出单词所花的时长和单词打印墨色无关\n",
    "\n",
    "$$H_0: T_c = T_i$$\n",
    "    \n",
    "### 拒绝零假设：\n",
    "读出单词所花的时长受单词打印墨色干扰，单词字义和单词打印墨色不一致时完成测试所用的时长明显大于一致时的时长\n",
    "\n",
    "$$H_a: T_c < T_i$$\n",
    "\n",
    "### 统计方法：\n",
    "\n",
    "因为并不知道总体偏差，而且样本文件中有只有24条测试数据。符合采用T检验的前提。观察下面绘制的样本数据分布图形，可以发现符合正态分布的特征，因此可以采用T检验。\n",
    "\n",
    "根据 __STROOP__ 实验的描述，是对每个独立测试者（即测试者之间不会相互干扰）进行一致和不一致两种情况下的连续测试，收集测试对象在两种情况下的完成测试的时长。因此适用相依样本T检验。\n",
    "\n",
    "因为加入了干扰，根据日常经验不一致时朗读时长肯定会高于一致时的朗读时长。因此采用单尾检验，置信水平 0.05\n",
    "\n",
    "    method: T-statistics\n",
    "\n",
    "    direction: one-tailed\n",
    "\n",
    "    alpha-level: 0.05\n",
    "\n",
    "\n",
    "#### 样本表格："
   ]
  },
  {
   "cell_type": "code",
   "execution_count": 6,
   "metadata": {},
   "outputs": [
    {
     "data": {
      "text/html": [
       "<iframe src=\"./stroopdata.html\" width=700 height=350></iframe>"
      ],
      "text/plain": [
       "<IPython.core.display.HTML object>"
      ]
     },
     "metadata": {},
     "output_type": "display_data"
    }
   ],
   "source": [
    "%%HTML\n",
    "<iframe src=\"./stroopdata.html\" width=700 height=350></iframe>"
   ]
  },
  {
   "cell_type": "markdown",
   "metadata": {},
   "source": [
    "##### 下面图形绘制了一致和不一致两种情况下的T分布图，从图中可以看到符合正态分布的特征。"
   ]
  },
  {
   "cell_type": "code",
   "execution_count": 7,
   "metadata": {
    "scrolled": true
   },
   "outputs": [
    {
     "data": {
      "text/html": [
       "<iframe src=\"./stroop-dist.html\" width=700 height=350></iframe>"
      ],
      "text/plain": [
       "<IPython.core.display.HTML object>"
      ]
     },
     "metadata": {},
     "output_type": "display_data"
    }
   ],
   "source": [
    "%%HTML\n",
    "<iframe src=\"./stroop-dist.html\" width=700 height=350></iframe>"
   ]
  },
  {
   "cell_type": "markdown",
   "metadata": {},
   "source": [
    "#### 样本原始数据:\n",
    "  [stroopdata.csv](https://raw.githubusercontent.com/ShiChJ/DAND-Basic-Materials/master/P1/Project_Files/stroopdata.csv)"
   ]
  },
  {
   "cell_type": "markdown",
   "metadata": {},
   "source": [
    "## 描述统计量(Descriptive Statistics)(M, SD)\n",
    "\n",
    "#### 样本量:\n",
    "\n",
    "$$\n",
    "N = 24\n",
    "$$\n",
    "\n",
    "#### 自由度(Degrees of Freedom):\n",
    "\n",
    "$$\n",
    "DF = N - 1 = 23\n",
    "$$\n",
    "\n",
    "#### 样本平均值($\\bar{X_c}$, $\\bar{X_i}$ 和 $\\bar{X_d}$)\n",
    "\n",
    "$\\bar{X_c}$ 是 颜色单词和显示（或书写）该单词的颜色一致时调查样本对象朗读所需的平均时长\n",
    "\n",
    "$$\n",
    "\\bar{X_c} = \\frac{\\sum\\limits_{i=1}^N X_c}{N} = 14.051125\n",
    "$$ \n",
    "\n",
    "$\\bar{X_i}$ 是 颜色单词和显示（或书写）该单词的颜色不一致时调查样本对象朗读所需的平均时长\n",
    "\n",
    "$$\n",
    "\\bar{X_i} = \\frac{\\sum\\limits_{i=1}^N X_i}{N} = 22.01591667\n",
    "$$\n",
    "\n",
    "#### 差异值\n",
    "$X_d$ 是 $X_i$ 和 $X_c$ 的差值\n",
    "\n",
    "$\\bar{X_d}$ 是 $\\bar{X_i}$ 和 $\\bar{X_c}$ 的差异\n",
    "\n",
    "$$\\bar{X_d} = \\bar{X_i} - \\bar{X_c} = 7.964791667$$\n",
    "\n",
    "\n",
    "\n",
    "#### 标准偏差(S):\n",
    "\n",
    "$$\\sigma^2 = \\sum\\limits_{i=1}^N (X_d)^2 = 327.04$$\n",
    "\n",
    "$S = \\sqrt {\\frac {\\sigma^2}{N-1}} = \\sqrt {\\frac {327.04}{23}} = 4.86482691$\n",
    "\n"
   ]
  },
  {
   "cell_type": "code",
   "execution_count": null,
   "metadata": {},
   "outputs": [],
   "source": []
  },
  {
   "cell_type": "markdown",
   "metadata": {},
   "source": [
    "## 推论统计量(inferential statestics)\n",
    "\n",
    "    direction: one-tailed\n",
    "\n",
    "    alpha-value: 0.05\n",
    "\n",
    "    S = 4.86482691\n",
    "    \n",
    "#### 标准误差(SE)\n",
    "\n",
    "$$SE = \\frac {S}{\\sqrt{N}} = 0.993028634705049$$\n",
    "    \n",
    "#### T critical-value:\n",
    "\n",
    "    t(df) = 2.064\n",
    "\n",
    "\n",
    "#### T统计量(T-statisics):\n",
    "\n",
    "$$T = \\frac {\\bar{X_d}}{\\frac {S}{\\sqrt {N}}} = 8.020706944$$\n",
    "\n",
    "#### P-value:\n",
    "\n",
    "根据T值和自由度DF查T表格得到P-value:\n",
    "P-value < 0.0005 < alpha-value\n",
    "\n",
    "\n",
    "#### 置信区间(CI):\n",
    "    \n",
    "$$CI = \\bar {X_d} \\pm t(df) = 8.020706944 \\pm 2.064 = [5.9567,10.0847]$$\n",
    "\n"
   ]
  },
  {
   "cell_type": "markdown",
   "metadata": {},
   "source": [
    "## 决策\n",
    "\n",
    "因为 T 远远大于 T-critical, 所以拒绝0假设成功!\n",
    "\n",
    "#### Reject $H_0$ \n"
   ]
  },
  {
   "cell_type": "markdown",
   "metadata": {},
   "source": [
    "## 效应量测量\n",
    "\n",
    "#### Cohen's D\n",
    "\n",
    "$$ Cohen's D = \\frac {\\bar {X_d}}{S} = 1.637219949$$\n"
   ]
  },
  {
   "cell_type": "markdown",
   "metadata": {},
   "source": [
    "## 推论计算的统计意义\n",
    "\n",
    "颜色单词和显示（或书写）该单词的颜色不一致时朗读所需的平均时长比一致时的朗读平均时长多了6到10秒。\n",
    "一致和不一致两种测试的均值有1.6倍的标准偏差。\n",
    "统计具有显著意义，不一致时朗读时长显著大于一致时的朗读时长。"
   ]
  },
  {
   "cell_type": "markdown",
   "metadata": {},
   "source": [
    "links:\n",
    "\n",
    "[斯特鲁普效应](https://zh.wikipedia.org/wiki/%E6%96%AF%E7%89%B9%E9%B2%81%E6%99%AE%E6%95%88%E5%BA%94)\n",
    "    \n",
    "[Demonstration of Stroop Effect – \"Name that color\" test](http://www.math.unt.edu/~tam/SelfTests/StroopEffects.html)\n",
    "\n",
    "[Assumptions for the t-test](http://www.csic.cornell.edu/Elrod/t-test/t-test-assumptions.html)\n",
    "\n",
    "[T-Score vs. Z-Score: What’s the Difference?](http://www.statisticshowto.com/probability-and-statistics/hypothesis-testing/t-score-vs-z-score/)\n",
    "\n",
    "[How to Calculate Standard Error](https://ncalculators.com/math-worksheets/calculate-standard-error.htm)"
   ]
  },
  {
   "cell_type": "code",
   "execution_count": null,
   "metadata": {},
   "outputs": [],
   "source": []
  }
 ],
 "metadata": {
  "kernelspec": {
   "display_name": "Python 2",
   "language": "python",
   "name": "python2"
  },
  "language_info": {
   "codemirror_mode": {
    "name": "ipython",
    "version": 2
   },
   "file_extension": ".py",
   "mimetype": "text/x-python",
   "name": "python",
   "nbconvert_exporter": "python",
   "pygments_lexer": "ipython2",
   "version": "2.7.14"
  }
 },
 "nbformat": 4,
 "nbformat_minor": 2
}
